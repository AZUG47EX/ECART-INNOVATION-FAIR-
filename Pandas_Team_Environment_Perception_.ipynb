{
  "nbformat": 4,
  "nbformat_minor": 0,
  "metadata": {
    "colab": {
      "name": "Pandas-Team-Environment-Perception .ipynb",
      "provenance": [],
      "collapsed_sections": []
    },
    "kernelspec": {
      "name": "python3",
      "display_name": "Python 3"
    },
    "language_info": {
      "name": "python"
    },
    "accelerator": "GPU"
  },
  "cells": [
    {
      "cell_type": "markdown",
      "metadata": {
        "id": "FIEBfVBEYZUR"
      },
      "source": [
        "**Pandas Team implementation of Autonomous Vehicles Environment Perception Task**\n",
        "\n",
        "![output_img](https://user-images.githubusercontent.com/44018277/112603426-9db00680-8e32-11eb-87d8-6954337fe1b9.jpg)"
      ]
    },
    {
      "cell_type": "markdown",
      "metadata": {
        "id": "0Xq3oi7DYGI8"
      },
      "source": [
        "## Clone the repository and install the requirements"
      ]
    },
    {
      "cell_type": "code",
      "metadata": {
        "colab": {
          "base_uri": "https://localhost:8080/"
        },
        "id": "jGCI0_JRS9jb",
        "outputId": "0bce75e7-a81b-49c8-af0e-75cfe20b27c3"
      },
      "source": [
        "!git clone https://github.com/Pandas-Team/Autonomous-Vehicle-Environment-Perception.git\n",
        "%cd /content/Autonomous-Vehicle-Environment-Perception\n",
        "!pip install -r requirements.txt"
      ],
      "execution_count": 1,
      "outputs": [
        {
          "output_type": "stream",
          "text": [
            "Cloning into 'Autonomous-Vehicle-Environment-Perception'...\n",
            "remote: Enumerating objects: 356, done.\u001b[K\n",
            "remote: Counting objects: 100% (356/356), done.\u001b[K\n",
            "remote: Compressing objects: 100% (269/269), done.\u001b[K\n",
            "remote: Total 949 (delta 207), reused 187 (delta 87), pack-reused 593\u001b[K\n",
            "Receiving objects: 100% (949/949), 93.15 MiB | 28.42 MiB/s, done.\n",
            "Resolving deltas: 100% (446/446), done.\n",
            "/content/Autonomous-Vehicle-Environment-Perception\n",
            "Requirement already satisfied: Cython in /usr/local/lib/python3.7/dist-packages (from -r requirements.txt (line 4)) (0.29.22)\n",
            "Requirement already satisfied: matplotlib>=3.2.2 in /usr/local/lib/python3.7/dist-packages (from -r requirements.txt (line 5)) (3.2.2)\n",
            "Requirement already satisfied: numpy>=1.18.5 in /usr/local/lib/python3.7/dist-packages (from -r requirements.txt (line 6)) (1.19.5)\n",
            "Requirement already satisfied: opencv-python>=4.1.2 in /usr/local/lib/python3.7/dist-packages (from -r requirements.txt (line 7)) (4.1.2.30)\n",
            "Requirement already satisfied: Pillow in /usr/local/lib/python3.7/dist-packages (from -r requirements.txt (line 8)) (7.1.2)\n",
            "Collecting PyYAML>=5.3\n",
            "\u001b[?25l  Downloading https://files.pythonhosted.org/packages/7a/a5/393c087efdc78091afa2af9f1378762f9821c9c1d7a22c5753fb5ac5f97a/PyYAML-5.4.1-cp37-cp37m-manylinux1_x86_64.whl (636kB)\n",
            "\u001b[K     |████████████████████████████████| 645kB 8.4MB/s \n",
            "\u001b[?25hRequirement already satisfied: scipy>=1.4.1 in /usr/local/lib/python3.7/dist-packages (from -r requirements.txt (line 10)) (1.4.1)\n",
            "Requirement already satisfied: torch>=1.7.0 in /usr/local/lib/python3.7/dist-packages (from -r requirements.txt (line 11)) (1.8.1+cu101)\n",
            "Requirement already satisfied: torchvision>=0.7.0 in /usr/local/lib/python3.7/dist-packages (from -r requirements.txt (line 12)) (0.9.1+cu101)\n",
            "Requirement already satisfied: tqdm>=4.41.0 in /usr/local/lib/python3.7/dist-packages (from -r requirements.txt (line 13)) (4.41.1)\n",
            "Requirement already satisfied: seaborn in /usr/local/lib/python3.7/dist-packages (from -r requirements.txt (line 14)) (0.11.1)\n",
            "Requirement already satisfied: pandas in /usr/local/lib/python3.7/dist-packages (from -r requirements.txt (line 15)) (1.1.5)\n",
            "Requirement already satisfied: python-dateutil>=2.1 in /usr/local/lib/python3.7/dist-packages (from matplotlib>=3.2.2->-r requirements.txt (line 5)) (2.8.1)\n",
            "Requirement already satisfied: cycler>=0.10 in /usr/local/lib/python3.7/dist-packages (from matplotlib>=3.2.2->-r requirements.txt (line 5)) (0.10.0)\n",
            "Requirement already satisfied: pyparsing!=2.0.4,!=2.1.2,!=2.1.6,>=2.0.1 in /usr/local/lib/python3.7/dist-packages (from matplotlib>=3.2.2->-r requirements.txt (line 5)) (2.4.7)\n",
            "Requirement already satisfied: kiwisolver>=1.0.1 in /usr/local/lib/python3.7/dist-packages (from matplotlib>=3.2.2->-r requirements.txt (line 5)) (1.3.1)\n",
            "Requirement already satisfied: typing-extensions in /usr/local/lib/python3.7/dist-packages (from torch>=1.7.0->-r requirements.txt (line 11)) (3.7.4.3)\n",
            "Requirement already satisfied: pytz>=2017.2 in /usr/local/lib/python3.7/dist-packages (from pandas->-r requirements.txt (line 15)) (2018.9)\n",
            "Requirement already satisfied: six>=1.5 in /usr/local/lib/python3.7/dist-packages (from python-dateutil>=2.1->matplotlib>=3.2.2->-r requirements.txt (line 5)) (1.15.0)\n",
            "Installing collected packages: PyYAML\n",
            "  Found existing installation: PyYAML 3.13\n",
            "    Uninstalling PyYAML-3.13:\n",
            "      Successfully uninstalled PyYAML-3.13\n",
            "Successfully installed PyYAML-5.4.1\n"
          ],
          "name": "stdout"
        }
      ]
    },
    {
      "cell_type": "markdown",
      "metadata": {
        "id": "BYbUkHCjYL4a"
      },
      "source": [
        "## Download the weights and sample video and unzip the zip file"
      ]
    },
    {
      "cell_type": "code",
      "metadata": {
        "colab": {
          "base_uri": "https://localhost:8080/"
        },
        "id": "AmBv9y-_VQa9",
        "outputId": "963e6db7-cc0f-4d92-a5e8-b1a5c8172d81"
      },
      "source": [
        "!gdown https://drive.google.com/u/0/uc?id=1-MpEWgI-s1V5d6O5iq8cd29yKcrBkO_4&export=download\n",
        "!unzip /content/Autonomous-Vehicle-Environment-Perception/Pandas.zip"
      ],
      "execution_count": 2,
      "outputs": [
        {
          "output_type": "stream",
          "text": [
            "Downloading...\n",
            "From: https://drive.google.com/u/0/uc?id=1-MpEWgI-s1V5d6O5iq8cd29yKcrBkO_4\n",
            "To: /content/Autonomous-Vehicle-Environment-Perception/Pandas.zip\n",
            "330MB [00:01, 190MB/s]\n",
            "Archive:  /content/Autonomous-Vehicle-Environment-Perception/Pandas.zip\n",
            "   creating: weights/\n",
            "  inflating: weights/model_1.pth     \n",
            "  inflating: weights/model_full.pth  \n",
            "  inflating: weights/yolov5s.pt      \n",
            "  inflating: weights/yolov5m.pt      \n",
            "  inflating: weights/Best_Sign_Model_TV.pt  \n",
            "  inflating: weights/culane_model.pkl  \n",
            "  inflating: weights/best_sign2.pt   \n",
            "  inflating: test.mov                \n"
          ],
          "name": "stdout"
        }
      ]
    },
    {
      "cell_type": "markdown",
      "metadata": {
        "id": "YnLQMutDYTwh"
      },
      "source": [
        "## Run!"
      ]
    },
    {
      "cell_type": "code",
      "metadata": {
        "colab": {
          "base_uri": "https://localhost:8080/"
        },
        "id": "ZzM0jKPBWB9n",
        "outputId": "472522bb-8580-469f-f847-a170484e53e5"
      },
      "source": [
        "!python main.py \\\n",
        "--noshow --save \\\n",
        "--output-name 'myout'"
      ],
      "execution_count": 3,
      "outputs": [
        {
          "output_type": "stream",
          "text": [
            "Yolo model loaded!\n",
            "CULane model loaded!\n",
            "Downloading: \"https://download.pytorch.org/models/resnet18-5c106cde.pth\" to /root/.cache/torch/hub/checkpoints/resnet18-5c106cde.pth\n",
            "100% 44.7M/44.7M [00:00<00:00, 149MB/s] \n",
            "SGD model loaded!\n",
            "Sign Detection model loaded!\n",
            "outputs/myout\n",
            "[Input Video : test.mov] [1208/1208 Frames Processed] [FPS : 5.951000] [ET : 0:00:00]"
          ],
          "name": "stdout"
        }
      ]
    },
    {
      "cell_type": "markdown",
      "metadata": {
        "id": "zSgtDYMLYp-_"
      },
      "source": [
        "The output video has been saved in /content/Autonomous-Vehicle-Environment-Perception/outputs/myout/myout.mp4"
      ]
    }
  ]
}